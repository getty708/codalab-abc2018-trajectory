{
 "cells": [
  {
   "cell_type": "markdown",
   "metadata": {},
   "source": [
    "# Sample 1 - RandomForest Classifer"
   ]
  },
  {
   "cell_type": "markdown",
   "metadata": {},
   "source": [
    "## Step.1 データの読み込み\n",
    "`utils.load_data`関数を使用し， 今回使用するデータの全てを読み込みます．"
   ]
  },
  {
   "cell_type": "code",
   "execution_count": 1,
   "metadata": {},
   "outputs": [
    {
     "name": "stdout",
     "output_type": "stream",
     "text": [
      "len(X_raw)=631, X_raw[0]=(9360, 8), Y_raw=(631, 1)\n",
      "col_row[0] = lon\n",
      "col_row[1] = lat\n",
      "col_row[2] = azimus\n",
      "col_row[3] = elevation\n",
      "col_row[4] = daytime\n",
      "col_row[5] = elapsed\n",
      "col_row[6] = clock\n",
      "col_row[7] = days\n"
     ]
    }
   ],
   "source": [
    "import utils\n",
    "\n",
    "# Load CSV\n",
    "X_raw, Y_raw, cols_raw = utils.load_data(mode=\"all\")\n",
    "print(\"len(X_raw)={}, X_raw[0]={}, Y_raw={}\".format(len(X_raw), X_raw[0].shape, Y_raw.shape))\n",
    "\n",
    "for i,key in enumerate(cols_raw):\n",
    "    print(\"col_row[{}] = {}\".format(i, key))"
   ]
  },
  {
   "cell_type": "markdown",
   "metadata": {},
   "source": [
    "## Step.2 軌跡の時系列データに対して特徴抽出\n",
    "+ 各タイムステップに対して，　特徴抽出を行います． サンプルでは 速度と加速度， およびその差分値を計算する関数を用意しました．\n",
    "+ `utils.feature_extraction_broadcast`　関数に元データ(`X_raw`)と処理関数を渡します．　また計算に使用する列はcolsで指定します．\n",
    "+ 抽出した特徴は, `utils.feature_concatenate`を使って，1つの変数に結合してください."
   ]
  },
  {
   "cell_type": "code",
   "execution_count": 2,
   "metadata": {},
   "outputs": [
    {
     "name": "stdout",
     "output_type": "stream",
     "text": [
      "X_speed[0]=(9360, 4)\n",
      "\n",
      "col_speed[0] = speed\n",
      "col_speed[1] = speed_diff\n",
      "col_speed[2] = acc\n",
      "col_speed[3] = acc_diff\n"
     ]
    }
   ],
   "source": [
    "# Feature Extraction from whole trajectory\n",
    "X_speed, cols_speed = utils.feature_extraction_broadcast(X_raw, func=utils.get_speed_and_acc, cols=[0,1,5,])\n",
    "print(\"X_speed[0]={}\\n\".format(X_speed[0].shape))\n",
    "\n",
    "for i,key in enumerate(cols_speed):\n",
    "    print(\"col_speed[{}] = {}\".format(i, key))"
   ]
  },
  {
   "cell_type": "code",
   "execution_count": 3,
   "metadata": {},
   "outputs": [
    {
     "name": "stdout",
     "output_type": "stream",
     "text": [
      "len(X)=631, X[0]=(9360, 12)\n",
      "\n",
      "col   0 = lon\n",
      "col   1 = lat\n",
      "col   2 = azimus\n",
      "col   3 = elevation\n",
      "col   4 = daytime\n",
      "col   5 = elapsed\n",
      "col   6 = clock\n",
      "col   7 = days\n",
      "col   8 = speed\n",
      "col   9 = speed_diff\n",
      "col  10 = acc\n",
      "col  11 = acc_diff\n"
     ]
    }
   ],
   "source": [
    "# Concatenate Extracted Feature Vectors\n",
    "X = utils.feature_concatenate(X_raw, X_speed)\n",
    "\n",
    "cols = cols_raw + cols_speed\n",
    "print(\"len(X)={}, X[0]={}\\n\".format(len(X), X[0].shape))\n",
    "\n",
    "for i,key in enumerate(cols):\n",
    "    print(\"col{:>4} = {}\".format(i, key))"
   ]
  },
  {
   "cell_type": "markdown",
   "metadata": {},
   "source": [
    "## Step.3 軌跡全体から特徴抽出 (時系列を圧縮) & Training/Test Dataへ分割\n",
    "+ 時間方向に圧縮を行い， 多次元の時系列データを1つの値に圧縮します.\n",
    "+ configを編集することで行えます. 特徴量の名前(col_name), 抽出対象のカラムID(col), 特徴抽出に使用する関数(aggfunc)."
   ]
  },
  {
   "cell_type": "code",
   "execution_count": 15,
   "metadata": {},
   "outputs": [
    {
     "name": "stdout",
     "output_type": "stream",
     "text": [
      "X_train=(500, 13), Y_train=(500,)\n",
      "X_test=(131, 13), Y_test=(131,)\n"
     ]
    },
    {
     "data": {
      "text/html": [
       "<div>\n",
       "<style scoped>\n",
       "    .dataframe tbody tr th:only-of-type {\n",
       "        vertical-align: middle;\n",
       "    }\n",
       "\n",
       "    .dataframe tbody tr th {\n",
       "        vertical-align: top;\n",
       "    }\n",
       "\n",
       "    .dataframe thead th {\n",
       "        text-align: right;\n",
       "    }\n",
       "</style>\n",
       "<table border=\"1\" class=\"dataframe\">\n",
       "  <thead>\n",
       "    <tr style=\"text-align: right;\">\n",
       "      <th></th>\n",
       "      <th>lon_mean</th>\n",
       "      <th>lon_std</th>\n",
       "      <th>lon_min</th>\n",
       "      <th>lon_max</th>\n",
       "      <th>lat_mean</th>\n",
       "      <th>lat_std</th>\n",
       "      <th>lat_min</th>\n",
       "      <th>lat_max</th>\n",
       "      <th>speed_mean</th>\n",
       "      <th>speed_std</th>\n",
       "      <th>acc_mean</th>\n",
       "      <th>acc_std</th>\n",
       "      <th>days</th>\n",
       "      <th>true</th>\n",
       "    </tr>\n",
       "  </thead>\n",
       "  <tbody>\n",
       "    <tr>\n",
       "      <th>0</th>\n",
       "      <td>0.485390</td>\n",
       "      <td>-0.191123</td>\n",
       "      <td>0.564601</td>\n",
       "      <td>0.333691</td>\n",
       "      <td>1.345543</td>\n",
       "      <td>1.167651</td>\n",
       "      <td>0.519580</td>\n",
       "      <td>1.303818</td>\n",
       "      <td>-0.545262</td>\n",
       "      <td>-0.252432</td>\n",
       "      <td>-0.545262</td>\n",
       "      <td>-0.252432</td>\n",
       "      <td>2.051088</td>\n",
       "      <td>1</td>\n",
       "    </tr>\n",
       "    <tr>\n",
       "      <th>1</th>\n",
       "      <td>-0.054167</td>\n",
       "      <td>-0.336685</td>\n",
       "      <td>0.234253</td>\n",
       "      <td>-0.266399</td>\n",
       "      <td>0.681712</td>\n",
       "      <td>0.362747</td>\n",
       "      <td>0.512368</td>\n",
       "      <td>0.467314</td>\n",
       "      <td>1.144472</td>\n",
       "      <td>0.993693</td>\n",
       "      <td>1.144472</td>\n",
       "      <td>0.993693</td>\n",
       "      <td>-0.209192</td>\n",
       "      <td>1</td>\n",
       "    </tr>\n",
       "    <tr>\n",
       "      <th>2</th>\n",
       "      <td>-0.292809</td>\n",
       "      <td>-0.605986</td>\n",
       "      <td>0.348983</td>\n",
       "      <td>-0.543969</td>\n",
       "      <td>-0.500866</td>\n",
       "      <td>-0.735253</td>\n",
       "      <td>0.495949</td>\n",
       "      <td>-0.636023</td>\n",
       "      <td>-1.591125</td>\n",
       "      <td>-1.818191</td>\n",
       "      <td>-1.591125</td>\n",
       "      <td>-1.818191</td>\n",
       "      <td>-0.661248</td>\n",
       "      <td>1</td>\n",
       "    </tr>\n",
       "    <tr>\n",
       "      <th>3</th>\n",
       "      <td>-0.015994</td>\n",
       "      <td>-0.567528</td>\n",
       "      <td>0.563563</td>\n",
       "      <td>-0.319971</td>\n",
       "      <td>-0.643078</td>\n",
       "      <td>-0.644308</td>\n",
       "      <td>0.346120</td>\n",
       "      <td>-0.613959</td>\n",
       "      <td>-0.173540</td>\n",
       "      <td>-0.886447</td>\n",
       "      <td>-0.173540</td>\n",
       "      <td>-0.886447</td>\n",
       "      <td>-0.661248</td>\n",
       "      <td>1</td>\n",
       "    </tr>\n",
       "    <tr>\n",
       "      <th>4</th>\n",
       "      <td>-0.543081</td>\n",
       "      <td>0.142169</td>\n",
       "      <td>-0.956317</td>\n",
       "      <td>-0.024320</td>\n",
       "      <td>1.072380</td>\n",
       "      <td>0.782345</td>\n",
       "      <td>0.522187</td>\n",
       "      <td>1.126764</td>\n",
       "      <td>-0.219898</td>\n",
       "      <td>0.203248</td>\n",
       "      <td>-0.219898</td>\n",
       "      <td>0.203248</td>\n",
       "      <td>1.599032</td>\n",
       "      <td>1</td>\n",
       "    </tr>\n",
       "  </tbody>\n",
       "</table>\n",
       "</div>"
      ],
      "text/plain": [
       "   lon_mean   lon_std   lon_min   lon_max  lat_mean   lat_std   lat_min  \\\n",
       "0  0.485390 -0.191123  0.564601  0.333691  1.345543  1.167651  0.519580   \n",
       "1 -0.054167 -0.336685  0.234253 -0.266399  0.681712  0.362747  0.512368   \n",
       "2 -0.292809 -0.605986  0.348983 -0.543969 -0.500866 -0.735253  0.495949   \n",
       "3 -0.015994 -0.567528  0.563563 -0.319971 -0.643078 -0.644308  0.346120   \n",
       "4 -0.543081  0.142169 -0.956317 -0.024320  1.072380  0.782345  0.522187   \n",
       "\n",
       "    lat_max  speed_mean  speed_std  acc_mean   acc_std      days  true  \n",
       "0  1.303818   -0.545262  -0.252432 -0.545262 -0.252432  2.051088     1  \n",
       "1  0.467314    1.144472   0.993693  1.144472  0.993693 -0.209192     1  \n",
       "2 -0.636023   -1.591125  -1.818191 -1.591125 -1.818191 -0.661248     1  \n",
       "3 -0.613959   -0.173540  -0.886447 -0.173540 -0.886447 -0.661248     1  \n",
       "4  1.126764   -0.219898   0.203248 -0.219898  0.203248  1.599032     1  "
      ]
     },
     "metadata": {},
     "output_type": "display_data"
    }
   ],
   "source": [
    "import numpy as np\n",
    "\n",
    "config  = [\n",
    "    {\"col_name\":\"lon_mean\", \"col\":0,\"aggfunc\": np.mean, },\n",
    "    {\"col_name\":\"lon_std\",     \"col\":0,\"aggfunc\": np.std },\n",
    "    {\"col_name\":\"lon_min\",     \"col\":0,\"aggfunc\": np.min },\n",
    "    {\"col_name\":\"lon_max\",     \"col\":0,\"aggfunc\": np.max },\n",
    "    \n",
    "    {\"col_name\":\"lat_mean\", \"col\":1,\"aggfunc\": np.mean, },\n",
    "    {\"col_name\":\"lat_std\",     \"col\":1,\"aggfunc\": np.std },\n",
    "    {\"col_name\":\"lat_min\",     \"col\":1,\"aggfunc\": np.min },\n",
    "    {\"col_name\":\"lat_max\",     \"col\":1,\"aggfunc\": np.max },\n",
    "    \n",
    "        \n",
    "    {\"col_name\":\"speed_mean\", \"col\":8,\"aggfunc\": np.mean, },\n",
    "    {\"col_name\":\"speed_std\", \"col\":8,\"aggfunc\": np.std },\n",
    "    #{\"col_name\":\"speed_min\", \"col\":8,\"aggfunc\": np.min },\n",
    "    \n",
    "    {\"col_name\":\"acc_mean\", \"col\":8,\"aggfunc\": np.mean, },\n",
    "    {\"col_name\":\"acc_std\", \"col\":8,\"aggfunc\": np.std },\n",
    "    \n",
    "    {\"col_name\":\"days\", \"col\":7,\"aggfunc\": np.max },\n",
    "]\n",
    "df =  utils.feature_aggrigator(X, config,)\n",
    "\n",
    "\n",
    "# Split Data\n",
    "df, (X_train, Y_train), (X_test, Y_test) = utils.split_train_test(df, Y_raw, use_std=True)\n",
    "print(\"X_train={}, Y_train={}\".format(X_train.shape, Y_train.shape,))\n",
    "print(\"X_test={}, Y_test={}\".format(X_test.shape, Y_test.shape,))\n",
    "display(df.head())"
   ]
  },
  {
   "cell_type": "markdown",
   "metadata": {},
   "source": [
    "## Step.4 学習"
   ]
  },
  {
   "cell_type": "code",
   "execution_count": 16,
   "metadata": {},
   "outputs": [
    {
     "data": {
      "text/html": [
       "<div>\n",
       "<style scoped>\n",
       "    .dataframe tbody tr th:only-of-type {\n",
       "        vertical-align: middle;\n",
       "    }\n",
       "\n",
       "    .dataframe tbody tr th {\n",
       "        vertical-align: top;\n",
       "    }\n",
       "\n",
       "    .dataframe thead th {\n",
       "        text-align: right;\n",
       "    }\n",
       "</style>\n",
       "<table border=\"1\" class=\"dataframe\">\n",
       "  <thead>\n",
       "    <tr style=\"text-align: right;\">\n",
       "      <th></th>\n",
       "      <th>ID</th>\n",
       "      <th>lon_mean</th>\n",
       "      <th>lon_std</th>\n",
       "      <th>lon_min</th>\n",
       "      <th>lon_max</th>\n",
       "      <th>lat_mean</th>\n",
       "      <th>lat_std</th>\n",
       "      <th>lat_min</th>\n",
       "      <th>lat_max</th>\n",
       "      <th>speed_mean</th>\n",
       "      <th>speed_std</th>\n",
       "      <th>acc_mean</th>\n",
       "      <th>acc_std</th>\n",
       "      <th>days</th>\n",
       "      <th>true</th>\n",
       "      <th>pred</th>\n",
       "    </tr>\n",
       "  </thead>\n",
       "  <tbody>\n",
       "    <tr>\n",
       "      <th>0</th>\n",
       "      <td>500</td>\n",
       "      <td>-0.988184</td>\n",
       "      <td>0.137444</td>\n",
       "      <td>-1.365229</td>\n",
       "      <td>-0.568244</td>\n",
       "      <td>-0.902806</td>\n",
       "      <td>-0.628657</td>\n",
       "      <td>-1.743436</td>\n",
       "      <td>-0.851630</td>\n",
       "      <td>2.156109</td>\n",
       "      <td>0.248237</td>\n",
       "      <td>2.156109</td>\n",
       "      <td>0.248237</td>\n",
       "      <td>-0.661248</td>\n",
       "      <td>1</td>\n",
       "      <td>1</td>\n",
       "    </tr>\n",
       "    <tr>\n",
       "      <th>1</th>\n",
       "      <td>501</td>\n",
       "      <td>-0.910996</td>\n",
       "      <td>0.104998</td>\n",
       "      <td>-0.909248</td>\n",
       "      <td>-0.568244</td>\n",
       "      <td>-0.781856</td>\n",
       "      <td>-0.659049</td>\n",
       "      <td>-0.605660</td>\n",
       "      <td>-0.764134</td>\n",
       "      <td>0.245357</td>\n",
       "      <td>0.799538</td>\n",
       "      <td>0.245357</td>\n",
       "      <td>0.799538</td>\n",
       "      <td>-0.661248</td>\n",
       "      <td>1</td>\n",
       "      <td>1</td>\n",
       "    </tr>\n",
       "    <tr>\n",
       "      <th>2</th>\n",
       "      <td>502</td>\n",
       "      <td>-0.040848</td>\n",
       "      <td>-0.529712</td>\n",
       "      <td>0.544701</td>\n",
       "      <td>-0.314949</td>\n",
       "      <td>-0.581893</td>\n",
       "      <td>-0.750476</td>\n",
       "      <td>0.510427</td>\n",
       "      <td>-0.663179</td>\n",
       "      <td>-0.337238</td>\n",
       "      <td>0.061653</td>\n",
       "      <td>-0.337238</td>\n",
       "      <td>0.061653</td>\n",
       "      <td>-0.661248</td>\n",
       "      <td>1</td>\n",
       "      <td>0</td>\n",
       "    </tr>\n",
       "    <tr>\n",
       "      <th>3</th>\n",
       "      <td>503</td>\n",
       "      <td>0.071525</td>\n",
       "      <td>-0.513551</td>\n",
       "      <td>0.528434</td>\n",
       "      <td>-0.265143</td>\n",
       "      <td>-0.422171</td>\n",
       "      <td>-0.674956</td>\n",
       "      <td>0.496725</td>\n",
       "      <td>-0.547119</td>\n",
       "      <td>-0.535585</td>\n",
       "      <td>0.176832</td>\n",
       "      <td>-0.535585</td>\n",
       "      <td>0.176832</td>\n",
       "      <td>-0.661248</td>\n",
       "      <td>1</td>\n",
       "      <td>1</td>\n",
       "    </tr>\n",
       "    <tr>\n",
       "      <th>4</th>\n",
       "      <td>504</td>\n",
       "      <td>-1.120915</td>\n",
       "      <td>0.619954</td>\n",
       "      <td>-1.802694</td>\n",
       "      <td>-0.421590</td>\n",
       "      <td>-0.799170</td>\n",
       "      <td>-0.448640</td>\n",
       "      <td>-1.308040</td>\n",
       "      <td>-0.646890</td>\n",
       "      <td>3.390169</td>\n",
       "      <td>0.946858</td>\n",
       "      <td>3.390169</td>\n",
       "      <td>0.946858</td>\n",
       "      <td>-0.661248</td>\n",
       "      <td>0</td>\n",
       "      <td>0</td>\n",
       "    </tr>\n",
       "  </tbody>\n",
       "</table>\n",
       "</div>"
      ],
      "text/plain": [
       "    ID  lon_mean   lon_std   lon_min   lon_max  lat_mean   lat_std   lat_min  \\\n",
       "0  500 -0.988184  0.137444 -1.365229 -0.568244 -0.902806 -0.628657 -1.743436   \n",
       "1  501 -0.910996  0.104998 -0.909248 -0.568244 -0.781856 -0.659049 -0.605660   \n",
       "2  502 -0.040848 -0.529712  0.544701 -0.314949 -0.581893 -0.750476  0.510427   \n",
       "3  503  0.071525 -0.513551  0.528434 -0.265143 -0.422171 -0.674956  0.496725   \n",
       "4  504 -1.120915  0.619954 -1.802694 -0.421590 -0.799170 -0.448640 -1.308040   \n",
       "\n",
       "    lat_max  speed_mean  speed_std  acc_mean   acc_std      days  true  pred  \n",
       "0 -0.851630    2.156109   0.248237  2.156109  0.248237 -0.661248     1     1  \n",
       "1 -0.764134    0.245357   0.799538  0.245357  0.799538 -0.661248     1     1  \n",
       "2 -0.663179   -0.337238   0.061653 -0.337238  0.061653 -0.661248     1     0  \n",
       "3 -0.547119   -0.535585   0.176832 -0.535585  0.176832 -0.661248     1     1  \n",
       "4 -0.646890    3.390169   0.946858  3.390169  0.946858 -0.661248     0     0  "
      ]
     },
     "metadata": {},
     "output_type": "display_data"
    }
   ],
   "source": [
    "import pandas as pd\n",
    "from sklearn.cross_validation import train_test_split\n",
    "from sklearn.ensemble import RandomForestClassifier\n",
    "\n",
    "rfc = RandomForestClassifier(n_estimators=200)\n",
    "rfc.fit(X_train, Y_train)\n",
    "Y_pred = rfc.predict(X_test)\n",
    "\n",
    "\n",
    "# Save Prediction Results\n",
    "df_pred = df.loc[range(500,631), :].reset_index(drop=False).rename(columns={\"index\":\"ID\"})\n",
    "df_pred[\"pred\"] = Y_pred\n",
    "display(df_pred.head())"
   ]
  },
  {
   "cell_type": "markdown",
   "metadata": {},
   "source": [
    "## Step.5 結果の確認"
   ]
  },
  {
   "cell_type": "code",
   "execution_count": 17,
   "metadata": {},
   "outputs": [
    {
     "data": {
      "text/html": [
       "<div>\n",
       "<style scoped>\n",
       "    .dataframe tbody tr th:only-of-type {\n",
       "        vertical-align: middle;\n",
       "    }\n",
       "\n",
       "    .dataframe tbody tr th {\n",
       "        vertical-align: top;\n",
       "    }\n",
       "\n",
       "    .dataframe thead th {\n",
       "        text-align: right;\n",
       "    }\n",
       "</style>\n",
       "<table border=\"1\" class=\"dataframe\">\n",
       "  <thead>\n",
       "    <tr style=\"text-align: right;\">\n",
       "      <th></th>\n",
       "      <th>Male</th>\n",
       "      <th>Female</th>\n",
       "      <th>All</th>\n",
       "    </tr>\n",
       "  </thead>\n",
       "  <tbody>\n",
       "    <tr>\n",
       "      <th>Precision</th>\n",
       "      <td>0.806452</td>\n",
       "      <td>0.710145</td>\n",
       "      <td>0.755725</td>\n",
       "    </tr>\n",
       "    <tr>\n",
       "      <th>Recall</th>\n",
       "      <td>0.714286</td>\n",
       "      <td>0.803279</td>\n",
       "      <td>0.755725</td>\n",
       "    </tr>\n",
       "    <tr>\n",
       "      <th>F1</th>\n",
       "      <td>0.757576</td>\n",
       "      <td>0.753846</td>\n",
       "      <td>0.755725</td>\n",
       "    </tr>\n",
       "  </tbody>\n",
       "</table>\n",
       "</div>"
      ],
      "text/plain": [
       "               Male    Female       All\n",
       "Precision  0.806452  0.710145  0.755725\n",
       "Recall     0.714286  0.803279  0.755725\n",
       "F1         0.757576  0.753846  0.755725"
      ]
     },
     "execution_count": 17,
     "metadata": {},
     "output_type": "execute_result"
    }
   ],
   "source": [
    "# スコアの確認\n",
    "utils.scores(df_pred)"
   ]
  },
  {
   "cell_type": "code",
   "execution_count": 18,
   "metadata": {},
   "outputs": [
    {
     "name": "stderr",
     "output_type": "stream",
     "text": [
      "2018-10-22 07:56:38,022 | INFO  | utils.draw_cmx | Start: Draw CMX\n"
     ]
    },
    {
     "data": {
      "image/png": "[encoded data removed]",
      "text/plain": [
       "<Figure size 288x288 with 2 Axes>"
      ]
     },
     "metadata": {
      "needs_background": "light"
     },
     "output_type": "display_data"
    },
    {
     "data": {
      "text/html": [
       "<div>\n",
       "<style scoped>\n",
       "    .dataframe tbody tr th:only-of-type {\n",
       "        vertical-align: middle;\n",
       "    }\n",
       "\n",
       "    .dataframe tbody tr th {\n",
       "        vertical-align: top;\n",
       "    }\n",
       "\n",
       "    .dataframe thead th {\n",
       "        text-align: right;\n",
       "    }\n",
       "</style>\n",
       "<table border=\"1\" class=\"dataframe\">\n",
       "  <thead>\n",
       "    <tr style=\"text-align: right;\">\n",
       "      <th></th>\n",
       "      <th>Male</th>\n",
       "      <th>Female</th>\n",
       "    </tr>\n",
       "  </thead>\n",
       "  <tbody>\n",
       "    <tr>\n",
       "      <th>Male</th>\n",
       "      <td>50</td>\n",
       "      <td>20</td>\n",
       "    </tr>\n",
       "    <tr>\n",
       "      <th>Female</th>\n",
       "      <td>12</td>\n",
       "      <td>49</td>\n",
       "    </tr>\n",
       "  </tbody>\n",
       "</table>\n",
       "</div>"
      ],
      "text/plain": [
       "        Male  Female\n",
       "Male      50      20\n",
       "Female    12      49"
      ]
     },
     "execution_count": 18,
     "metadata": {},
     "output_type": "execute_result"
    }
   ],
   "source": [
    "import matplotlib\n",
    "%matplotlib inline \n",
    "\n",
    "# Confution Matrix\n",
    "utils.draw_cmx(df_pred)"
   ]
  },
  {
   "cell_type": "markdown",
   "metadata": {},
   "source": [
    "# -----------------------------"
   ]
  },
  {
   "cell_type": "markdown",
   "metadata": {},
   "source": [
    "# 結果の分析\n",
    "ヒストグラムや散布図などを使って，　使用した特徴量が適切か確認します．"
   ]
  },
  {
   "cell_type": "code",
   "execution_count": 19,
   "metadata": {},
   "outputs": [
    {
     "data": {
      "image/png": "[encoded data removed]",
      "text/plain": [
       "<Figure size 432x288 with 1 Axes>"
      ]
     },
     "metadata": {
      "needs_background": "light"
     },
     "output_type": "display_data"
    }
   ],
   "source": [
    "import matplotlib\n",
    "%matplotlib inline \n",
    "import matplotlib.pyplot as plt\n",
    "import seaborn as sns\n",
    "\n",
    "df_male    = df_pred[df_pred[\"true\"] == 0]\n",
    "df_female = df_pred[df_pred[\"true\"] == 1]\n",
    "\n",
    "plt.figure()\n",
    "plt.scatter(df_male[\"lat_max\"], df_male[\"lon_max\"], label=\"Male\")\n",
    "plt.scatter(df_female[\"lat_max\"], df_female[\"lon_max\"], label=\"Female\")\n",
    "plt.xlabel(\"Latitude Max\")\n",
    "plt.ylabel(\"Longititude Max\")\n",
    "plt.grid()\n",
    "plt.legend()\n",
    "plt.show()"
   ]
  },
  {
   "cell_type": "code",
   "execution_count": 20,
   "metadata": {},
   "outputs": [
    {
     "data": {
      "image/png": "[encoded data removed]",
      "text/plain": [
       "<Figure size 432x288 with 1 Axes>"
      ]
     },
     "metadata": {
      "needs_background": "light"
     },
     "output_type": "display_data"
    }
   ],
   "source": [
    "import matplotlib\n",
    "%matplotlib inline \n",
    "import matplotlib.pyplot as plt\n",
    "import seaborn as sns\n",
    "\n",
    "df_male    = df_pred[df_pred[\"true\"] == 0]\n",
    "df_female = df_pred[df_pred[\"true\"] == 1]\n",
    "\n",
    "plt.figure()\n",
    "plt.hist(df_male[\"speed_mean\"], density=True, bins=20, alpha=0.8, label=\"Male\")\n",
    "plt.hist(df_female[\"speed_mean\"], density=True, bins=20, alpha=0.8,  label=\"Female\")\n",
    "plt.ylabel(\"Normed Frequency\")\n",
    "plt.xlabel(\"Speed Mean\")\n",
    "plt.grid()\n",
    "plt.legend()\n",
    "plt.show()"
   ]
  },
  {
   "cell_type": "code",
   "execution_count": null,
   "metadata": {},
   "outputs": [],
   "source": []
  }
 ],
 "metadata": {
  "kernelspec": {
   "display_name": "Python 3",
   "language": "python",
   "name": "python3"
  },
  "language_info": {
   "codemirror_mode": {
    "name": "ipython",
    "version": 3
   },
   "file_extension": ".py",
   "mimetype": "text/x-python",
   "name": "python",
   "nbconvert_exporter": "python",
   "pygments_lexer": "ipython3",
   "version": "3.5.2"
  }
 },
 "nbformat": 4,
 "nbformat_minor": 2
}
