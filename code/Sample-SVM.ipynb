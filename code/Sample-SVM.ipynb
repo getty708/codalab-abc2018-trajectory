{
 "cells": [
  {
   "cell_type": "markdown",
   "metadata": {},
   "source": [
    "# Sample 1 - SVM Classifer"
   ]
  },
  {
   "cell_type": "markdown",
   "metadata": {},
   "source": [
    "## Step.1 データの読み込み\n",
    "`utils.load_data`関数を使用し， 今回使用するデータの全てを読み込みます．"
   ]
  },
  {
   "cell_type": "code",
   "execution_count": 1,
   "metadata": {},
   "outputs": [
    {
     "name": "stdout",
     "output_type": "stream",
     "text": [
      "len(X_raw)=631, X_raw[0]=(9360, 8), Y_raw=(631, 1)\n",
      "col_row[0] = lon\n",
      "col_row[1] = lat\n",
      "col_row[2] = azimus\n",
      "col_row[3] = elevation\n",
      "col_row[4] = daytime\n",
      "col_row[5] = elapsed\n",
      "col_row[6] = clock\n",
      "col_row[7] = days\n"
     ]
    }
   ],
   "source": [
    "import utils\n",
    "\n",
    "# Load CSV\n",
    "X_raw, Y_raw, cols_raw = utils.load_data(mode=\"all\")\n",
    "print(\"len(X_raw)={}, X_raw[0]={}, Y_raw={}\".format(len(X_raw), X_raw[0].shape, Y_raw.shape))\n",
    "\n",
    "for i,key in enumerate(cols_raw):\n",
    "    print(\"col_row[{}] = {}\".format(i, key))"
   ]
  },
  {
   "cell_type": "markdown",
   "metadata": {},
   "source": [
    "## Step.2 軌跡の時系列データに対して特徴抽出\n",
    "+ 各タイムステップに対して，　特徴抽出を行います． サンプルでは 速度と加速度， およびその差分値を計算する関数を用意しました．\n",
    "+ `utils.feature_extraction_broadcast`　関数に元データ(`X_raw`)と処理関数を渡します．　また計算に使用する列はcolsで指定します．\n",
    "+ 抽出した特徴は, `utils.feature_concatenate`を使って，1つの変数に結合してください."
   ]
  },
  {
   "cell_type": "code",
   "execution_count": 2,
   "metadata": {},
   "outputs": [
    {
     "name": "stdout",
     "output_type": "stream",
     "text": [
      "X_speed[0]=(9360, 4)\n",
      "\n",
      "col_speed[0] = speed\n",
      "col_speed[1] = speed_diff\n",
      "col_speed[2] = acc\n",
      "col_speed[3] = acc_diff\n"
     ]
    }
   ],
   "source": [
    "# Feature Extraction from whole trajectory\n",
    "X_speed, cols_speed = utils.feature_extraction_broadcast(X_raw, func=utils.get_speed_and_acc, cols=[0,1,5,])\n",
    "print(\"X_speed[0]={}\\n\".format(X_speed[0].shape))\n",
    "\n",
    "for i,key in enumerate(cols_speed):\n",
    "    print(\"col_speed[{}] = {}\".format(i, key))"
   ]
  },
  {
   "cell_type": "code",
   "execution_count": 3,
   "metadata": {},
   "outputs": [
    {
     "name": "stdout",
     "output_type": "stream",
     "text": [
      "len(X)=631, X[0]=(9360, 12)\n",
      "\n",
      "col   0 = lon\n",
      "col   1 = lat\n",
      "col   2 = azimus\n",
      "col   3 = elevation\n",
      "col   4 = daytime\n",
      "col   5 = elapsed\n",
      "col   6 = clock\n",
      "col   7 = days\n",
      "col   8 = speed\n",
      "col   9 = speed_diff\n",
      "col  10 = acc\n",
      "col  11 = acc_diff\n"
     ]
    }
   ],
   "source": [
    "# Concatenate Extracted Feature Vectors\n",
    "X = utils.feature_concatenate(X_raw, X_speed)\n",
    "\n",
    "cols = cols_raw + cols_speed\n",
    "print(\"len(X)={}, X[0]={}\\n\".format(len(X), X[0].shape))\n",
    "\n",
    "for i,key in enumerate(cols):\n",
    "    print(\"col{:>4} = {}\".format(i, key))"
   ]
  },
  {
   "cell_type": "markdown",
   "metadata": {},
   "source": [
    "## Step.3 軌跡全体から特徴抽出 (時系列を圧縮) & Training/Test Dataへ分割\n",
    "+ 時間方向に圧縮を行い， 多次元の時系列データを1つの値に圧縮します.\n",
    "+ configを編集することで行えます. 特徴量の名前(col_name), 抽出対象のカラムID(col), 特徴抽出に使用する関数(aggfunc)."
   ]
  },
  {
   "cell_type": "code",
   "execution_count": 6,
   "metadata": {},
   "outputs": [
    {
     "name": "stdout",
     "output_type": "stream",
     "text": [
      "X_train=(500, 4), Y_train=(500,)\n",
      "X_test=(131, 4), Y_test=(131,)\n"
     ]
    },
    {
     "data": {
      "text/html": [
       "<div>\n",
       "<style scoped>\n",
       "    .dataframe tbody tr th:only-of-type {\n",
       "        vertical-align: middle;\n",
       "    }\n",
       "\n",
       "    .dataframe tbody tr th {\n",
       "        vertical-align: top;\n",
       "    }\n",
       "\n",
       "    .dataframe thead th {\n",
       "        text-align: right;\n",
       "    }\n",
       "</style>\n",
       "<table border=\"1\" class=\"dataframe\">\n",
       "  <thead>\n",
       "    <tr style=\"text-align: right;\">\n",
       "      <th></th>\n",
       "      <th>lon_mean</th>\n",
       "      <th>lon_std</th>\n",
       "      <th>speed_mean</th>\n",
       "      <th>speed_std</th>\n",
       "      <th>true</th>\n",
       "    </tr>\n",
       "  </thead>\n",
       "  <tbody>\n",
       "    <tr>\n",
       "      <th>0</th>\n",
       "      <td>0.485390</td>\n",
       "      <td>-0.191123</td>\n",
       "      <td>-0.545262</td>\n",
       "      <td>-0.252432</td>\n",
       "      <td>1</td>\n",
       "    </tr>\n",
       "    <tr>\n",
       "      <th>1</th>\n",
       "      <td>-0.054167</td>\n",
       "      <td>-0.336685</td>\n",
       "      <td>1.144472</td>\n",
       "      <td>0.993693</td>\n",
       "      <td>1</td>\n",
       "    </tr>\n",
       "    <tr>\n",
       "      <th>2</th>\n",
       "      <td>-0.292809</td>\n",
       "      <td>-0.605986</td>\n",
       "      <td>-1.591125</td>\n",
       "      <td>-1.818191</td>\n",
       "      <td>1</td>\n",
       "    </tr>\n",
       "    <tr>\n",
       "      <th>3</th>\n",
       "      <td>-0.015994</td>\n",
       "      <td>-0.567528</td>\n",
       "      <td>-0.173540</td>\n",
       "      <td>-0.886447</td>\n",
       "      <td>1</td>\n",
       "    </tr>\n",
       "    <tr>\n",
       "      <th>4</th>\n",
       "      <td>-0.543081</td>\n",
       "      <td>0.142169</td>\n",
       "      <td>-0.219898</td>\n",
       "      <td>0.203248</td>\n",
       "      <td>1</td>\n",
       "    </tr>\n",
       "  </tbody>\n",
       "</table>\n",
       "</div>"
      ],
      "text/plain": [
       "   lon_mean   lon_std  speed_mean  speed_std  true\n",
       "0  0.485390 -0.191123   -0.545262  -0.252432     1\n",
       "1 -0.054167 -0.336685    1.144472   0.993693     1\n",
       "2 -0.292809 -0.605986   -1.591125  -1.818191     1\n",
       "3 -0.015994 -0.567528   -0.173540  -0.886447     1\n",
       "4 -0.543081  0.142169   -0.219898   0.203248     1"
      ]
     },
     "metadata": {},
     "output_type": "display_data"
    }
   ],
   "source": [
    "import numpy as np\n",
    "\n",
    "config  = [\n",
    "    {\"col_name\":\"lon_mean\", \"col\":0,\"aggfunc\": np.mean, },\n",
    "    {\"col_name\":\"lon_std\",     \"col\":0,\"aggfunc\": np.std },\n",
    "    {\"col_name\":\"speed_mean\", \"col\":8,\"aggfunc\": np.mean, },\n",
    "    {\"col_name\":\"speed_std\", \"col\":8,\"aggfunc\": np.std },\n",
    "]\n",
    "df =  utils.feature_aggrigator(X, config,)\n",
    "\n",
    "\n",
    "# Split Data\n",
    "df, (X_train, Y_train), (X_test, Y_test) = utils.split_train_test(df, Y_raw, use_std=True)\n",
    "print(\"X_train={}, Y_train={}\".format(X_train.shape, Y_train.shape,))\n",
    "print(\"X_test={}, Y_test={}\".format(X_test.shape, Y_test.shape,))\n",
    "display(df.head())"
   ]
  },
  {
   "cell_type": "markdown",
   "metadata": {},
   "source": [
    "## Step.4 学習"
   ]
  },
  {
   "cell_type": "code",
   "execution_count": 8,
   "metadata": {},
   "outputs": [
    {
     "data": {
      "text/html": [
       "<div>\n",
       "<style scoped>\n",
       "    .dataframe tbody tr th:only-of-type {\n",
       "        vertical-align: middle;\n",
       "    }\n",
       "\n",
       "    .dataframe tbody tr th {\n",
       "        vertical-align: top;\n",
       "    }\n",
       "\n",
       "    .dataframe thead th {\n",
       "        text-align: right;\n",
       "    }\n",
       "</style>\n",
       "<table border=\"1\" class=\"dataframe\">\n",
       "  <thead>\n",
       "    <tr style=\"text-align: right;\">\n",
       "      <th></th>\n",
       "      <th>ID</th>\n",
       "      <th>lon_mean</th>\n",
       "      <th>lon_std</th>\n",
       "      <th>speed_mean</th>\n",
       "      <th>speed_std</th>\n",
       "      <th>true</th>\n",
       "      <th>pred</th>\n",
       "    </tr>\n",
       "  </thead>\n",
       "  <tbody>\n",
       "    <tr>\n",
       "      <th>0</th>\n",
       "      <td>500</td>\n",
       "      <td>-0.988184</td>\n",
       "      <td>0.137444</td>\n",
       "      <td>2.156109</td>\n",
       "      <td>0.248237</td>\n",
       "      <td>1</td>\n",
       "      <td>1</td>\n",
       "    </tr>\n",
       "    <tr>\n",
       "      <th>1</th>\n",
       "      <td>501</td>\n",
       "      <td>-0.910996</td>\n",
       "      <td>0.104998</td>\n",
       "      <td>0.245357</td>\n",
       "      <td>0.799538</td>\n",
       "      <td>1</td>\n",
       "      <td>0</td>\n",
       "    </tr>\n",
       "    <tr>\n",
       "      <th>2</th>\n",
       "      <td>502</td>\n",
       "      <td>-0.040848</td>\n",
       "      <td>-0.529712</td>\n",
       "      <td>-0.337238</td>\n",
       "      <td>0.061653</td>\n",
       "      <td>1</td>\n",
       "      <td>1</td>\n",
       "    </tr>\n",
       "    <tr>\n",
       "      <th>3</th>\n",
       "      <td>503</td>\n",
       "      <td>0.071525</td>\n",
       "      <td>-0.513551</td>\n",
       "      <td>-0.535585</td>\n",
       "      <td>0.176832</td>\n",
       "      <td>1</td>\n",
       "      <td>1</td>\n",
       "    </tr>\n",
       "    <tr>\n",
       "      <th>4</th>\n",
       "      <td>504</td>\n",
       "      <td>-1.120915</td>\n",
       "      <td>0.619954</td>\n",
       "      <td>3.390169</td>\n",
       "      <td>0.946858</td>\n",
       "      <td>0</td>\n",
       "      <td>0</td>\n",
       "    </tr>\n",
       "  </tbody>\n",
       "</table>\n",
       "</div>"
      ],
      "text/plain": [
       "    ID  lon_mean   lon_std  speed_mean  speed_std  true  pred\n",
       "0  500 -0.988184  0.137444    2.156109   0.248237     1     1\n",
       "1  501 -0.910996  0.104998    0.245357   0.799538     1     0\n",
       "2  502 -0.040848 -0.529712   -0.337238   0.061653     1     1\n",
       "3  503  0.071525 -0.513551   -0.535585   0.176832     1     1\n",
       "4  504 -1.120915  0.619954    3.390169   0.946858     0     0"
      ]
     },
     "metadata": {},
     "output_type": "display_data"
    }
   ],
   "source": [
    "from sklearn.svm import SVC\n",
    "\n",
    "model = SVC()\n",
    "model.fit(X_train, Y_train)\n",
    "Y_pred =model.predict(X_test)\n",
    "\n",
    "\n",
    "# Save Prediction Results\n",
    "df_pred = df.loc[range(500,631), :].reset_index(drop=False).rename(columns={\"index\":\"ID\"})\n",
    "df_pred[\"pred\"] = Y_pred\n",
    "display(df_pred.head())"
   ]
  },
  {
   "cell_type": "markdown",
   "metadata": {},
   "source": [
    "## Step.5 結果の確認"
   ]
  },
  {
   "cell_type": "code",
   "execution_count": 9,
   "metadata": {},
   "outputs": [
    {
     "data": {
      "text/html": [
       "<div>\n",
       "<style scoped>\n",
       "    .dataframe tbody tr th:only-of-type {\n",
       "        vertical-align: middle;\n",
       "    }\n",
       "\n",
       "    .dataframe tbody tr th {\n",
       "        vertical-align: top;\n",
       "    }\n",
       "\n",
       "    .dataframe thead th {\n",
       "        text-align: right;\n",
       "    }\n",
       "</style>\n",
       "<table border=\"1\" class=\"dataframe\">\n",
       "  <thead>\n",
       "    <tr style=\"text-align: right;\">\n",
       "      <th></th>\n",
       "      <th>Male</th>\n",
       "      <th>Female</th>\n",
       "      <th>All</th>\n",
       "    </tr>\n",
       "  </thead>\n",
       "  <tbody>\n",
       "    <tr>\n",
       "      <th>Precision</th>\n",
       "      <td>0.730769</td>\n",
       "      <td>0.594937</td>\n",
       "      <td>0.648855</td>\n",
       "    </tr>\n",
       "    <tr>\n",
       "      <th>Recall</th>\n",
       "      <td>0.542857</td>\n",
       "      <td>0.770492</td>\n",
       "      <td>0.648855</td>\n",
       "    </tr>\n",
       "    <tr>\n",
       "      <th>F1</th>\n",
       "      <td>0.622951</td>\n",
       "      <td>0.671429</td>\n",
       "      <td>0.648855</td>\n",
       "    </tr>\n",
       "  </tbody>\n",
       "</table>\n",
       "</div>"
      ],
      "text/plain": [
       "               Male    Female       All\n",
       "Precision  0.730769  0.594937  0.648855\n",
       "Recall     0.542857  0.770492  0.648855\n",
       "F1         0.622951  0.671429  0.648855"
      ]
     },
     "execution_count": 9,
     "metadata": {},
     "output_type": "execute_result"
    }
   ],
   "source": [
    "# スコアの確認\n",
    "utils.scores(df_pred)"
   ]
  },
  {
   "cell_type": "code",
   "execution_count": 10,
   "metadata": {},
   "outputs": [
    {
     "name": "stderr",
     "output_type": "stream",
     "text": [
      "2018-10-22 03:43:03,319 | INFO  | utils.draw_cmx | Start: Draw CMX\n"
     ]
    },
    {
     "data": {
      "image/png": "[encoded data removed]",
      "text/plain": [
       "<Figure size 288x288 with 2 Axes>"
      ]
     },
     "metadata": {
      "needs_background": "light"
     },
     "output_type": "display_data"
    },
    {
     "data": {
      "text/html": [
       "<div>\n",
       "<style scoped>\n",
       "    .dataframe tbody tr th:only-of-type {\n",
       "        vertical-align: middle;\n",
       "    }\n",
       "\n",
       "    .dataframe tbody tr th {\n",
       "        vertical-align: top;\n",
       "    }\n",
       "\n",
       "    .dataframe thead th {\n",
       "        text-align: right;\n",
       "    }\n",
       "</style>\n",
       "<table border=\"1\" class=\"dataframe\">\n",
       "  <thead>\n",
       "    <tr style=\"text-align: right;\">\n",
       "      <th></th>\n",
       "      <th>Male</th>\n",
       "      <th>Female</th>\n",
       "    </tr>\n",
       "  </thead>\n",
       "  <tbody>\n",
       "    <tr>\n",
       "      <th>Male</th>\n",
       "      <td>38</td>\n",
       "      <td>32</td>\n",
       "    </tr>\n",
       "    <tr>\n",
       "      <th>Female</th>\n",
       "      <td>14</td>\n",
       "      <td>47</td>\n",
       "    </tr>\n",
       "  </tbody>\n",
       "</table>\n",
       "</div>"
      ],
      "text/plain": [
       "        Male  Female\n",
       "Male      38      32\n",
       "Female    14      47"
      ]
     },
     "execution_count": 10,
     "metadata": {},
     "output_type": "execute_result"
    }
   ],
   "source": [
    "import matplotlib\n",
    "%matplotlib inline \n",
    "\n",
    "# Confution Matrix\n",
    "utils.draw_cmx(df_pred)"
   ]
  },
  {
   "cell_type": "markdown",
   "metadata": {},
   "source": [
    "# -----------------------------"
   ]
  },
  {
   "cell_type": "markdown",
   "metadata": {},
   "source": [
    "# 結果の分析\n",
    "ヒストグラムや散布図などを使って，　使用した特徴量が適切か確認します．"
   ]
  },
  {
   "cell_type": "code",
   "execution_count": 11,
   "metadata": {},
   "outputs": [
    {
     "data": {
      "image/png": "[encoded data removed]",
      "text/plain": [
       "<Figure size 432x288 with 1 Axes>"
      ]
     },
     "metadata": {
      "needs_background": "light"
     },
     "output_type": "display_data"
    }
   ],
   "source": [
    "import matplotlib\n",
    "%matplotlib inline \n",
    "import matplotlib.pyplot as plt\n",
    "import seaborn as sns\n",
    "\n",
    "df_male    = df_pred[df_pred[\"true\"] == 0]\n",
    "df_female = df_pred[df_pred[\"true\"] == 1]\n",
    "\n",
    "plt.figure()\n",
    "plt.scatter(df_male[\"speed_mean\"], df_male[\"speed_std\"], label=\"Male\")\n",
    "plt.scatter(df_female[\"speed_mean\"], df_female[\"speed_std\"], label=\"Female\")\n",
    "plt.xlabel(\"Speed Mean\")\n",
    "plt.ylabel(\"Speed Std\")\n",
    "plt.grid()\n",
    "plt.legend()\n",
    "plt.show()"
   ]
  },
  {
   "cell_type": "code",
   "execution_count": 12,
   "metadata": {},
   "outputs": [
    {
     "data": {
      "image/png": "[encoded data removed]",
      "text/plain": [
       "<Figure size 432x288 with 1 Axes>"
      ]
     },
     "metadata": {
      "needs_background": "light"
     },
     "output_type": "display_data"
    }
   ],
   "source": [
    "import matplotlib\n",
    "%matplotlib inline \n",
    "import matplotlib.pyplot as plt\n",
    "import seaborn as sns\n",
    "\n",
    "df_male    = df_pred[df_pred[\"true\"] == 0]\n",
    "df_female = df_pred[df_pred[\"true\"] == 1]\n",
    "\n",
    "plt.figure()\n",
    "plt.hist(df_male[\"speed_mean\"], density=True, bins=20, alpha=0.8, label=\"Male\")\n",
    "plt.hist(df_female[\"speed_mean\"], density=True, bins=20, alpha=0.8,  label=\"Female\")\n",
    "plt.ylabel(\"Normed Frequency\")\n",
    "plt.xlabel(\"Speed Mean\")\n",
    "plt.grid()\n",
    "plt.legend()\n",
    "plt.show()"
   ]
  },
  {
   "cell_type": "code",
   "execution_count": null,
   "metadata": {},
   "outputs": [],
   "source": []
  },
  {
   "cell_type": "code",
   "execution_count": null,
   "metadata": {},
   "outputs": [],
   "source": []
  },
  {
   "cell_type": "code",
   "execution_count": null,
   "metadata": {},
   "outputs": [],
   "source": []
  }
 ],
 "metadata": {
  "kernelspec": {
   "display_name": "Python 3",
   "language": "python",
   "name": "python3"
  },
  "language_info": {
   "codemirror_mode": {
    "name": "ipython",
    "version": 3
   },
   "file_extension": ".py",
   "mimetype": "text/x-python",
   "name": "python",
   "nbconvert_exporter": "python",
   "pygments_lexer": "ipython3",
   "version": "3.5.2"
  }
 },
 "nbformat": 4,
 "nbformat_minor": 2
}
